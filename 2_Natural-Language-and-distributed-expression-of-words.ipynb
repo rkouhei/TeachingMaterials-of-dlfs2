{
 "cells": [
  {
   "cell_type": "code",
   "execution_count": 1,
   "metadata": {},
   "outputs": [
    {
     "name": "stdout",
     "output_type": "stream",
     "text": [
      "you say goodbye and i say hello .\n"
     ]
    }
   ],
   "source": [
    "text = 'You say goodbye and I say hello.'\n",
    "\n",
    "text = text.lower()\n",
    "text = text.replace('.', ' .')\n",
    "print(text)"
   ]
  },
  {
   "cell_type": "code",
   "execution_count": 2,
   "metadata": {},
   "outputs": [
    {
     "name": "stdout",
     "output_type": "stream",
     "text": [
      "['you', 'say', 'goodbye', 'and', 'i', 'say', 'hello', '.']\n"
     ]
    }
   ],
   "source": [
    "words = text.split(' ')\n",
    "print(words)"
   ]
  },
  {
   "cell_type": "code",
   "execution_count": 3,
   "metadata": {
    "collapsed": true
   },
   "outputs": [],
   "source": [
    "word_to_id = {}\n",
    "id_to_word = {}\n",
    "\n",
    "for word in words :\n",
    "    if word not in word_to_id :\n",
    "        new_id = len(word_to_id)\n",
    "        word_to_id[word] = new_id\n",
    "        id_to_word[new_id] = word"
   ]
  },
  {
   "cell_type": "code",
   "execution_count": 4,
   "metadata": {},
   "outputs": [
    {
     "name": "stdout",
     "output_type": "stream",
     "text": [
      "{0: 'you', 1: 'say', 2: 'goodbye', 3: 'and', 4: 'i', 5: 'hello', 6: '.'}\n",
      "{'you': 0, 'say': 1, 'goodbye': 2, 'and': 3, 'i': 4, 'hello': 5, '.': 6}\n"
     ]
    }
   ],
   "source": [
    "print(id_to_word)\n",
    "print(word_to_id)"
   ]
  },
  {
   "cell_type": "code",
   "execution_count": 5,
   "metadata": {},
   "outputs": [
    {
     "name": "stdout",
     "output_type": "stream",
     "text": [
      "[0 1 2 3 4 1 5 6]\n"
     ]
    }
   ],
   "source": [
    "import numpy as np\n",
    "corpus = [word_to_id[w] for w in words]\n",
    "corpus = np.array(corpus)\n",
    "print(corpus)"
   ]
  },
  {
   "cell_type": "code",
   "execution_count": 6,
   "metadata": {
    "collapsed": true
   },
   "outputs": [],
   "source": [
    "# コーパスの前処理を行う\n",
    "def preprocess(text) :\n",
    "    text = text.lower()\n",
    "    text = text.replace('.', ' .')\n",
    "    words = text.split(' ')\n",
    "    \n",
    "    word_to_id = {}\n",
    "    id_to_word = {}\n",
    "    for word in words :\n",
    "        if word not in word_to_id :\n",
    "            new_id = len(word_to_id)\n",
    "            word_to_id[word] = new_id\n",
    "            id_to_word[new_id] = word\n",
    "            \n",
    "    corpus = np.array([word_to_id[w] for w in words])\n",
    "    \n",
    "    return corpus, word_to_id, id_to_word"
   ]
  },
  {
   "cell_type": "code",
   "execution_count": 7,
   "metadata": {},
   "outputs": [
    {
     "name": "stdout",
     "output_type": "stream",
     "text": [
      "[0 1 2 3 4 1 5 6]\n",
      "{0: 'you', 1: 'say', 2: 'goodbye', 3: 'and', 4: 'i', 5: 'hello', 6: '.'}\n"
     ]
    }
   ],
   "source": [
    "import numpy as np\n",
    "\n",
    "text = 'You say goodbye and I say hello.'\n",
    "corpus, word_to_id, id_to_word = preprocess(text)\n",
    "\n",
    "print(corpus)\n",
    "print(id_to_word)"
   ]
  },
  {
   "cell_type": "code",
   "execution_count": 8,
   "metadata": {
    "collapsed": true
   },
   "outputs": [],
   "source": [
    "# コーパスより共起行列を作る\n",
    "def create_co_matrix(corpus, vocab_siz, window_size=1) :\n",
    "    corpus_size = len(corpus)\n",
    "    co_matrix = np.zeros((vocab_size, vocab_size), dtype=np.int32)\n",
    "    \n",
    "    for idx, word_id in enumerate(corpus) :\n",
    "        for i in range(1, window_size+1) :\n",
    "            left_idx = idx - i\n",
    "            right_idx = idx + i\n",
    "            \n",
    "            if left_idx >= 0 :\n",
    "                left_word_id = corpus[left_idx]\n",
    "                co_matrix[word_id, left_word_id] += 1\n",
    "                \n",
    "            if right_idx < corpus_size :\n",
    "                right_word_id = corpus[right_idx]\n",
    "                co_matrix[word_id, right_word_id] += 1\n",
    "                \n",
    "    return co_matrix"
   ]
  },
  {
   "cell_type": "code",
   "execution_count": 9,
   "metadata": {
    "collapsed": true
   },
   "outputs": [],
   "source": [
    "# コサイン類似度(0ベクトルが入ると0除算が発生してしまう)\n",
    "def cos_similar(x,y) :\n",
    "    nx = x / np.sqrt(np.sum(x**2))\n",
    "    ny = y / np.sqrt(np.sum(y**2))\n",
    "    return np.dot(nx,ny)"
   ]
  },
  {
   "cell_type": "code",
   "execution_count": 10,
   "metadata": {
    "collapsed": true
   },
   "outputs": [],
   "source": [
    "# コサイン類似度(0除算対策)\n",
    "def cos_similarity(x,y,eps=1e-8) :\n",
    "    nx = x / (np.sqrt(np.sum(x**2)) + eps)\n",
    "    ny = y / (np.sqrt(np.sum(y**2)) + eps)\n",
    "    return np.dot(nx,ny)"
   ]
  },
  {
   "cell_type": "code",
   "execution_count": 11,
   "metadata": {},
   "outputs": [
    {
     "name": "stdout",
     "output_type": "stream",
     "text": [
      "0.499999992929\n"
     ]
    }
   ],
   "source": [
    "text = 'You say goodbye and I say hello.'\n",
    "corpus, word_to_id, id_to_word = preprocess(text)\n",
    "vocab_size = len(word_to_id)\n",
    "C = create_co_matrix(corpus, vocab_size)\n",
    "\n",
    "c0 = C[word_to_id['goodbye']]\n",
    "c1 = C[word_to_id['hello']]\n",
    "print(cos_similarity(c0,c1))"
   ]
  },
  {
   "cell_type": "code",
   "execution_count": 12,
   "metadata": {
    "collapsed": true
   },
   "outputs": [],
   "source": [
    "# ある単語に対して類似した単語を上位から順に表示する\n",
    "def most_similar(query, word_to_id, id_to_word, word_matrix, top=5) :\n",
    "    # クエリを取り出す\n",
    "    if query not in word_to_id :\n",
    "        print('query is not found')\n",
    "        return\n",
    "    \n",
    "    print('\\n[query] ' + query)\n",
    "    query_id = word_to_id[query]\n",
    "    query_vec = word_matrix[query_id]\n",
    "    \n",
    "    # コサイン類似度の算出\n",
    "    vocab_size = len(id_to_word)\n",
    "    similarity = np.zeros(vocab_size)\n",
    "    for i in range(vocab_size) :\n",
    "        similarity[i] = cos_similarity(word_matrix[i], query_vec)\n",
    "        \n",
    "    # コサイン類似度の結果から、その値を高い順に出力\n",
    "    count = 0\n",
    "    for i in (-1 * similarity).argsort() :\n",
    "        if id_to_word[i] == query :\n",
    "            continue\n",
    "        print(f'{id_to_word[i]} : {similarity[i]}')\n",
    "        \n",
    "        count += 1\n",
    "        if count >= top :\n",
    "            return"
   ]
  },
  {
   "cell_type": "code",
   "execution_count": 13,
   "metadata": {},
   "outputs": [
    {
     "name": "stdout",
     "output_type": "stream",
     "text": [
      "\n",
      "[query] you\n",
      "goodbye : 0.7071067691154799\n",
      "i : 0.7071067691154799\n",
      "hello : 0.7071067691154799\n",
      "say : 0.0\n",
      "and : 0.0\n"
     ]
    }
   ],
   "source": [
    "text = 'You say goodbye and I say hello.'\n",
    "corpus, word_to_id, id_to_word = preprocess(text)\n",
    "vocab_size = len(word_to_id)\n",
    "C = create_co_matrix(corpus, vocab_size)\n",
    "\n",
    "most_similar('you', word_to_id, id_to_word, C, top=5)"
   ]
  },
  {
   "cell_type": "code",
   "execution_count": 14,
   "metadata": {
    "collapsed": true
   },
   "outputs": [],
   "source": [
    "# 正の相互情報遼PPMI\n",
    "def ppmi(C, verbose=False, eps=1e-8) :\n",
    "    M = np.zeros_like(C, dtype=np.float32)\n",
    "    N = np.sum(C)\n",
    "    S = np.sum(C, axis=0)\n",
    "    total = C.shape[0] * C.shape[1]\n",
    "    cnt = 0\n",
    "    \n",
    "    for i in range(C.shape[0]) :\n",
    "        for j in range(C.shape[1]) :\n",
    "            pmi = np.log2(C[i,j] * N / (S[j]*S[i]) + eps)\n",
    "            M[i,j] = max(0,pmi)\n",
    "            \n",
    "            if verbose :\n",
    "                cnt += 1\n",
    "                if cnt% (total//100) == 0 :\n",
    "                    print(f'{100*cnt/total} done')\n",
    "    return M"
   ]
  },
  {
   "cell_type": "code",
   "execution_count": 15,
   "metadata": {},
   "outputs": [
    {
     "name": "stdout",
     "output_type": "stream",
     "text": [
      "covariance matrix\n",
      "[[0 1 0 0 0 0 0]\n",
      " [1 0 1 0 1 1 0]\n",
      " [0 1 0 1 0 0 0]\n",
      " [0 0 1 0 1 0 0]\n",
      " [0 1 0 1 0 0 0]\n",
      " [0 1 0 0 0 0 1]\n",
      " [0 0 0 0 0 1 0]]\n",
      "--------------------------------------------------\n",
      "PPMI\n",
      "[[ 0.     1.807  0.     0.     0.     0.     0.   ]\n",
      " [ 1.807  0.     0.807  0.     0.807  0.807  0.   ]\n",
      " [ 0.     0.807  0.     1.807  0.     0.     0.   ]\n",
      " [ 0.     0.     1.807  0.     1.807  0.     0.   ]\n",
      " [ 0.     0.807  0.     1.807  0.     0.     0.   ]\n",
      " [ 0.     0.807  0.     0.     0.     0.     2.807]\n",
      " [ 0.     0.     0.     0.     0.     2.807  0.   ]]\n"
     ]
    }
   ],
   "source": [
    "text = 'You say goodbye and I say hello.'\n",
    "corpus, word_to_id, id_to_word = preprocess(text)\n",
    "vocab_size = len(word_to_id)\n",
    "C = create_co_matrix(corpus, vocab_size)\n",
    "W = ppmi(C)\n",
    "\n",
    "np.set_printoptions(precision=3)\n",
    "print('covariance matrix')\n",
    "print(C)\n",
    "print('-'*50)\n",
    "print('PPMI')\n",
    "print(W)"
   ]
  },
  {
   "cell_type": "code",
   "execution_count": 16,
   "metadata": {},
   "outputs": [
    {
     "name": "stdout",
     "output_type": "stream",
     "text": [
      "[0 1 0 0 0 0 0]\n",
      "[ 0.     1.807  0.     0.     0.     0.     0.   ]\n",
      "[ -3.409e-01  -1.110e-16  -3.886e-16  -1.205e-01   0.000e+00   9.323e-01\n",
      "   2.226e-16]\n",
      "[ -3.409e-01  -1.110e-16]\n"
     ]
    }
   ],
   "source": [
    "# SVDによる次元削減\n",
    "U, S, V  = np.linalg.svd(W)\n",
    "\n",
    "print(C[0])\n",
    "print(W[0])\n",
    "\n",
    "print(U[0])\n",
    "print(U[0,:2])"
   ]
  },
  {
   "cell_type": "code",
   "execution_count": 17,
   "metadata": {},
   "outputs": [
    {
     "data": {
      "image/png": "[encoded data removed]",
      "text/plain": [
       "<matplotlib.figure.Figure at 0x10b60c048>"
      ]
     },
     "metadata": {},
     "output_type": "display_data"
    }
   ],
   "source": [
    "# 2次元のベクトルをプロット\n",
    "import matplotlib.pyplot as plt\n",
    "\n",
    "for word, word_id in word_to_id.items() :\n",
    "    plt.annotate(word, (U[word_id, 0], U[word_id, 1]))\n",
    "    \n",
    "plt.scatter(U[:, 0], U[:, 1], alpha=0.5)\n",
    "plt.show()"
   ]
  },
  {
   "cell_type": "code",
   "execution_count": 18,
   "metadata": {},
   "outputs": [
    {
     "name": "stdout",
     "output_type": "stream",
     "text": [
      "corpus size :  929589\n",
      "corpus[:30] :  [ 0  1  2  3  4  5  6  7  8  9 10 11 12 13 14 15 16 17 18 19 20 21 22 23 24\n",
      " 25 26 27 28 29]\n",
      "\n",
      "id_to_word[0] :  aer\n",
      "id_to_word[1] banknote\n",
      "id_to_word[2] berlitz\n",
      "\n",
      "word_to_id['car'] :  3856\n",
      "word_to_id['happy'] :  4428\n",
      "word_to_id['lexus'] :  7426\n"
     ]
    }
   ],
   "source": [
    "import sys\n",
    "sys.path.append('./samplecode')\n",
    "from dataset import ptb\n",
    "\n",
    "corpus, word_to_id, id_to_word = ptb.load_data('train')\n",
    "\n",
    "print('corpus size : ', len(corpus))\n",
    "print('corpus[:30] : ', corpus[:30])\n",
    "print()\n",
    "print('id_to_word[0] : ', id_to_word[0])\n",
    "print('id_to_word[1]', id_to_word[1])\n",
    "print('id_to_word[2]', id_to_word[2])\n",
    "print()\n",
    "print(\"word_to_id['car'] : \", word_to_id['car'])\n",
    "print(\"word_to_id['happy'] : \", word_to_id['happy'])\n",
    "print(\"word_to_id['lexus'] : \", word_to_id['lexus'])"
   ]
  },
  {
   "cell_type": "code",
   "execution_count": 21,
   "metadata": {},
   "outputs": [
    {
     "name": "stdout",
     "output_type": "stream",
     "text": [
      "calculating co_occurance\n",
      "calculating PPMI ...\n",
      "1.0 done\n",
      "2.0 done\n",
      "3.0 done\n",
      "4.0 done\n",
      "5.0 done\n",
      "6.0 done\n",
      "7.0 done\n",
      "8.0 done\n",
      "9.0 done\n",
      "10.0 done\n",
      "11.0 done\n",
      "12.0 done\n",
      "13.0 done\n",
      "14.0 done\n",
      "15.0 done\n",
      "16.0 done\n",
      "17.0 done\n",
      "18.0 done\n",
      "19.0 done\n",
      "20.0 done\n",
      "21.0 done\n",
      "22.0 done\n",
      "23.0 done\n",
      "24.0 done\n",
      "25.0 done\n",
      "26.0 done\n",
      "27.0 done\n",
      "28.0 done\n",
      "29.0 done\n",
      "30.0 done\n",
      "31.0 done\n",
      "32.0 done\n",
      "33.0 done\n",
      "34.0 done\n",
      "35.0 done\n",
      "36.0 done\n",
      "37.0 done\n",
      "38.0 done\n",
      "39.0 done\n",
      "40.0 done\n",
      "41.0 done\n",
      "42.0 done\n",
      "43.0 done\n",
      "44.0 done\n",
      "45.0 done\n",
      "46.0 done\n",
      "47.0 done\n",
      "48.0 done\n",
      "49.0 done\n",
      "50.0 done\n",
      "51.0 done\n",
      "52.0 done\n",
      "53.0 done\n",
      "54.0 done\n",
      "55.0 done\n",
      "56.0 done\n",
      "57.0 done\n",
      "58.0 done\n",
      "59.0 done\n",
      "60.0 done\n",
      "61.0 done\n",
      "62.0 done\n",
      "63.0 done\n",
      "64.0 done\n",
      "65.0 done\n",
      "66.0 done\n",
      "67.0 done\n",
      "68.0 done\n",
      "69.0 done\n",
      "70.0 done\n",
      "71.0 done\n",
      "72.0 done\n",
      "73.0 done\n",
      "74.0 done\n",
      "75.0 done\n",
      "76.0 done\n",
      "77.0 done\n",
      "78.0 done\n",
      "79.0 done\n",
      "80.0 done\n",
      "81.0 done\n",
      "82.0 done\n",
      "83.0 done\n",
      "84.0 done\n",
      "85.0 done\n",
      "86.0 done\n",
      "87.0 done\n",
      "88.0 done\n",
      "89.0 done\n",
      "90.0 done\n",
      "91.0 done\n",
      "92.0 done\n",
      "93.0 done\n",
      "94.0 done\n",
      "95.0 done\n",
      "96.0 done\n",
      "97.0 done\n",
      "98.0 done\n",
      "99.0 done\n",
      "100.0 done\n",
      "calculating SVD\n",
      "\n",
      "[query] you\n",
      "white : 3.6893488147419103e+19\n",
      "fat : 3.6893488147419103e+19\n",
      "periods : 3.6893488147419103e+19\n",
      "bureaucrats : 3.6893488147419103e+19\n",
      "concluding : 3.6893488147419103e+19\n",
      "\n",
      "[query] year\n",
      "growth : 3.6893488147419103e+19\n",
      "house-passed : 3.6893488147419103e+19\n",
      "congressional : 3.6893488147419103e+19\n",
      "reinvest : 3.6893488147419103e+19\n",
      "gardens : 3.6893488147419103e+19\n",
      "\n",
      "[query] car\n",
      "coated : 3.6893488147419103e+19\n",
      "clubs : 3.6893488147419103e+19\n",
      "# : 3.6893488147419103e+19\n",
      "announcements : 3.6893488147419103e+19\n",
      "ft-se : 3.6893488147419103e+19\n",
      "\n",
      "[query] toyota\n",
      "toseland : 3.6893488147419103e+19\n",
      "tenants : 3.6893488147419103e+19\n",
      "hope : 3.6893488147419103e+19\n",
      "robust : 3.6893488147419103e+19\n",
      "herself : 3.6893488147419103e+19\n"
     ]
    }
   ],
   "source": [
    "# PTBデータ・セットでの評価\n",
    "\n",
    "window_size = 2\n",
    "wordvec_size = 100\n",
    "\n",
    "corpus, word_to_id, id_to_word = ptb.load_data('train')\n",
    "vocab_size = len(word_to_id)\n",
    "print('calculating co_occurance')\n",
    "C = create_co_matrix(corpus, vocab_size, window_size)\n",
    "print('calculating PPMI ...')\n",
    "W = ppmi(C, verbose=True)\n",
    "\n",
    "print('calculating SVD')\n",
    "try :\n",
    "    from sklearn.utils.extmath import randomized_svd\n",
    "    U, S, V  = randomized_svd(W, n_components=wordvec_size, n_iter=5, random_state=None)\n",
    "    \n",
    "except ImportError :\n",
    "    U, S, V = np.linalg.svd(W)\n",
    "    \n",
    "word_vecs = U[:, :wordvec_size]\n",
    "\n",
    "querys = ['you', 'year', 'car', 'toyota']\n",
    "for query in querys :\n",
    "    most_similar(query, word_to_id, id_to_word, word_vecs, top=5)"
   ]
  },
  {
   "cell_type": "code",
   "execution_count": null,
   "metadata": {
    "collapsed": true
   },
   "outputs": [],
   "source": []
  }
 ],
 "metadata": {
  "kernelspec": {
   "display_name": "Python 3",
   "language": "python",
   "name": "python3"
  },
  "language_info": {
   "codemirror_mode": {
    "name": "ipython",
    "version": 3
   },
   "file_extension": ".py",
   "mimetype": "text/x-python",
   "name": "python",
   "nbconvert_exporter": "python",
   "pygments_lexer": "ipython3",
   "version": "3.6.3"
  }
 },
 "nbformat": 4,
 "nbformat_minor": 2
}
